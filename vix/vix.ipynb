{
 "cells": [
  {
   "cell_type": "markdown",
   "metadata": {},
   "source": [
    "The CBOE White Paper has a step-by-step instruction for the index, downloadable at https://www.cboe.com/micro/vix/vixwhite.pdf. Option quote data also downloadable at http://www.cboe.com/delayedquote/quote-table-download."
   ]
  },
  {
   "cell_type": "markdown",
   "metadata": {},
   "source": [
    "This following shows calculation result for 4/6/2020 close time 16:15 ET."
   ]
  },
  {
   "cell_type": "code",
   "execution_count": 1,
   "metadata": {},
   "outputs": [],
   "source": [
    "import datetime\n",
    "import pandas as pd\n",
    "import numpy as np\n",
    "import matplotlib.pyplot as plt\n",
    "import calculator\n",
    "%matplotlib inline"
   ]
  },
  {
   "cell_type": "code",
   "execution_count": 2,
   "metadata": {},
   "outputs": [],
   "source": [
    "data_file = 'data/quotedata.csv'\n",
    "valuation_date = datetime.datetime(2020, 4, 6, 16, 15, 0)"
   ]
  },
  {
   "cell_type": "code",
   "execution_count": 3,
   "metadata": {},
   "outputs": [],
   "source": [
    "vix_calculator = calculator.VixCalculator(valuation_date, data_file)\n",
    "options_data = vix_calculator.read_data()"
   ]
  },
  {
   "cell_type": "markdown",
   "metadata": {},
   "source": [
    "Near and next options are defined as call and put options expires 30 days from valuation date. Therefore VIX measures 30-day expected volatility of S&P 500 index."
   ]
  },
  {
   "cell_type": "code",
   "execution_count": 4,
   "metadata": {},
   "outputs": [
    {
     "name": "stdout",
     "output_type": "stream",
     "text": [
      "valuation date: 2020-04-06 16:15:00\n",
      "near date: 2020-05-01 15:00:00\n",
      "next date: 2020-05-08 15:00:00\n"
     ]
    }
   ],
   "source": [
    "near_date, next_date = vix_calculator.get_near_next_date()\n",
    "print('valuation date: {0}\\nnear date: {1}\\nnext date: {2}'.format(valuation_date, near_date, next_date))"
   ]
  },
  {
   "cell_type": "code",
   "execution_count": 5,
   "metadata": {},
   "outputs": [
    {
     "data": {
      "text/html": [
       "<div>\n",
       "<style scoped>\n",
       "    .dataframe tbody tr th:only-of-type {\n",
       "        vertical-align: middle;\n",
       "    }\n",
       "\n",
       "    .dataframe tbody tr th {\n",
       "        vertical-align: top;\n",
       "    }\n",
       "\n",
       "    .dataframe thead th {\n",
       "        text-align: right;\n",
       "    }\n",
       "</style>\n",
       "<table border=\"1\" class=\"dataframe\">\n",
       "  <thead>\n",
       "    <tr style=\"text-align: right;\">\n",
       "      <th></th>\n",
       "      <th>Expiration Date</th>\n",
       "      <th>Calls</th>\n",
       "      <th>Last Sale</th>\n",
       "      <th>Net</th>\n",
       "      <th>Bid</th>\n",
       "      <th>Ask</th>\n",
       "      <th>Vol</th>\n",
       "      <th>IV</th>\n",
       "      <th>Delta</th>\n",
       "      <th>Gamma</th>\n",
       "      <th>...</th>\n",
       "      <th>Puts</th>\n",
       "      <th>Last Sale.1</th>\n",
       "      <th>Net.1</th>\n",
       "      <th>Bid.1</th>\n",
       "      <th>Ask.1</th>\n",
       "      <th>Vol.1</th>\n",
       "      <th>IV.1</th>\n",
       "      <th>Delta.1</th>\n",
       "      <th>Gamma.1</th>\n",
       "      <th>Open Int.1</th>\n",
       "    </tr>\n",
       "  </thead>\n",
       "  <tbody>\n",
       "    <tr>\n",
       "      <th>0</th>\n",
       "      <td>2020-04-06</td>\n",
       "      <td>SPXW200406C01500000</td>\n",
       "      <td>0.0</td>\n",
       "      <td>0.0</td>\n",
       "      <td>1060.3</td>\n",
       "      <td>1252.3</td>\n",
       "      <td>0</td>\n",
       "      <td>0.02</td>\n",
       "      <td>0.9969</td>\n",
       "      <td>0.0000</td>\n",
       "      <td>...</td>\n",
       "      <td>SPXW200406P01500000</td>\n",
       "      <td>0.0</td>\n",
       "      <td>0.0</td>\n",
       "      <td>0.0</td>\n",
       "      <td>0.05</td>\n",
       "      <td>0</td>\n",
       "      <td>18.0010</td>\n",
       "      <td>-0.0002</td>\n",
       "      <td>0.0</td>\n",
       "      <td>291</td>\n",
       "    </tr>\n",
       "    <tr>\n",
       "      <th>1</th>\n",
       "      <td>2020-04-06</td>\n",
       "      <td>SPXW200406C01600000</td>\n",
       "      <td>0.0</td>\n",
       "      <td>0.0</td>\n",
       "      <td>960.3</td>\n",
       "      <td>1152.3</td>\n",
       "      <td>0</td>\n",
       "      <td>0.02</td>\n",
       "      <td>0.9925</td>\n",
       "      <td>0.0000</td>\n",
       "      <td>...</td>\n",
       "      <td>SPXW200406P01600000</td>\n",
       "      <td>0.0</td>\n",
       "      <td>0.0</td>\n",
       "      <td>0.0</td>\n",
       "      <td>0.05</td>\n",
       "      <td>0</td>\n",
       "      <td>16.0643</td>\n",
       "      <td>-0.0002</td>\n",
       "      <td>0.0</td>\n",
       "      <td>226</td>\n",
       "    </tr>\n",
       "    <tr>\n",
       "      <th>2</th>\n",
       "      <td>2020-04-06</td>\n",
       "      <td>SPXW200406C01650000</td>\n",
       "      <td>0.0</td>\n",
       "      <td>0.0</td>\n",
       "      <td>910.3</td>\n",
       "      <td>1102.3</td>\n",
       "      <td>0</td>\n",
       "      <td>0.02</td>\n",
       "      <td>0.9871</td>\n",
       "      <td>0.0001</td>\n",
       "      <td>...</td>\n",
       "      <td>SPXW200406P01650000</td>\n",
       "      <td>0.0</td>\n",
       "      <td>0.0</td>\n",
       "      <td>0.0</td>\n",
       "      <td>0.05</td>\n",
       "      <td>0</td>\n",
       "      <td>15.2971</td>\n",
       "      <td>-0.0003</td>\n",
       "      <td>0.0</td>\n",
       "      <td>965</td>\n",
       "    </tr>\n",
       "    <tr>\n",
       "      <th>3</th>\n",
       "      <td>2020-04-06</td>\n",
       "      <td>SPXW200406C01700000</td>\n",
       "      <td>0.0</td>\n",
       "      <td>0.0</td>\n",
       "      <td>860.3</td>\n",
       "      <td>1052.3</td>\n",
       "      <td>0</td>\n",
       "      <td>0.02</td>\n",
       "      <td>0.9846</td>\n",
       "      <td>0.0001</td>\n",
       "      <td>...</td>\n",
       "      <td>SPXW200406P01700000</td>\n",
       "      <td>0.0</td>\n",
       "      <td>0.0</td>\n",
       "      <td>0.0</td>\n",
       "      <td>0.05</td>\n",
       "      <td>0</td>\n",
       "      <td>14.3163</td>\n",
       "      <td>-0.0003</td>\n",
       "      <td>0.0</td>\n",
       "      <td>1096</td>\n",
       "    </tr>\n",
       "    <tr>\n",
       "      <th>4</th>\n",
       "      <td>2020-04-06</td>\n",
       "      <td>SPXW200406C01750000</td>\n",
       "      <td>0.0</td>\n",
       "      <td>0.0</td>\n",
       "      <td>810.3</td>\n",
       "      <td>1002.3</td>\n",
       "      <td>0</td>\n",
       "      <td>0.02</td>\n",
       "      <td>0.9848</td>\n",
       "      <td>0.0001</td>\n",
       "      <td>...</td>\n",
       "      <td>SPXW200406P01750000</td>\n",
       "      <td>0.0</td>\n",
       "      <td>0.0</td>\n",
       "      <td>0.0</td>\n",
       "      <td>0.05</td>\n",
       "      <td>0</td>\n",
       "      <td>13.5010</td>\n",
       "      <td>-0.0003</td>\n",
       "      <td>0.0</td>\n",
       "      <td>682</td>\n",
       "    </tr>\n",
       "  </tbody>\n",
       "</table>\n",
       "<p>5 rows × 22 columns</p>\n",
       "</div>"
      ],
      "text/plain": [
       "  Expiration Date                Calls  Last Sale  Net     Bid     Ask  Vol  \\\n",
       "0      2020-04-06  SPXW200406C01500000        0.0  0.0  1060.3  1252.3    0   \n",
       "1      2020-04-06  SPXW200406C01600000        0.0  0.0   960.3  1152.3    0   \n",
       "2      2020-04-06  SPXW200406C01650000        0.0  0.0   910.3  1102.3    0   \n",
       "3      2020-04-06  SPXW200406C01700000        0.0  0.0   860.3  1052.3    0   \n",
       "4      2020-04-06  SPXW200406C01750000        0.0  0.0   810.3  1002.3    0   \n",
       "\n",
       "     IV   Delta   Gamma  ...                 Puts  Last Sale.1 Net.1  Bid.1  \\\n",
       "0  0.02  0.9969  0.0000  ...  SPXW200406P01500000          0.0   0.0    0.0   \n",
       "1  0.02  0.9925  0.0000  ...  SPXW200406P01600000          0.0   0.0    0.0   \n",
       "2  0.02  0.9871  0.0001  ...  SPXW200406P01650000          0.0   0.0    0.0   \n",
       "3  0.02  0.9846  0.0001  ...  SPXW200406P01700000          0.0   0.0    0.0   \n",
       "4  0.02  0.9848  0.0001  ...  SPXW200406P01750000          0.0   0.0    0.0   \n",
       "\n",
       "   Ask.1  Vol.1     IV.1  Delta.1  Gamma.1  Open Int.1  \n",
       "0   0.05      0  18.0010  -0.0002      0.0         291  \n",
       "1   0.05      0  16.0643  -0.0002      0.0         226  \n",
       "2   0.05      0  15.2971  -0.0003      0.0         965  \n",
       "3   0.05      0  14.3163  -0.0003      0.0        1096  \n",
       "4   0.05      0  13.5010  -0.0003      0.0         682  \n",
       "\n",
       "[5 rows x 22 columns]"
      ]
     },
     "execution_count": 5,
     "metadata": {},
     "output_type": "execute_result"
    }
   ],
   "source": [
    "options_data.head()"
   ]
  },
  {
   "cell_type": "markdown",
   "metadata": {},
   "source": [
    "Since calculation uses rates only for the near and next term dates, and is not highly sensitive to interest rate, an estimate is provided."
   ]
  },
  {
   "cell_type": "code",
   "execution_count": 6,
   "metadata": {},
   "outputs": [],
   "source": [
    "rates = dict()\n",
    "rates[near_date] = 1.e-2\n",
    "rates[next_date] = 1.e-2"
   ]
  },
  {
   "cell_type": "code",
   "execution_count": 7,
   "metadata": {},
   "outputs": [
    {
     "name": "stdout",
     "output_type": "stream",
     "text": [
      "vix: 45.2215\n"
     ]
    }
   ],
   "source": [
    "vix = vix_calculator.calculate_vix(rates)\n",
    "print('vix: {:.4f}'.format(vix))"
   ]
  },
  {
   "cell_type": "markdown",
   "metadata": {},
   "source": [
    "The close value of VIX for 4/6/2020 3:14 CDT is **45.24**"
   ]
  },
  {
   "cell_type": "code",
   "execution_count": null,
   "metadata": {},
   "outputs": [],
   "source": []
  }
 ],
 "metadata": {
  "kernelspec": {
   "display_name": "Python 3",
   "language": "python",
   "name": "python3"
  },
  "language_info": {
   "codemirror_mode": {
    "name": "ipython",
    "version": 3
   },
   "file_extension": ".py",
   "mimetype": "text/x-python",
   "name": "python",
   "nbconvert_exporter": "python",
   "pygments_lexer": "ipython3",
   "version": "3.7.6"
  }
 },
 "nbformat": 4,
 "nbformat_minor": 4
}
